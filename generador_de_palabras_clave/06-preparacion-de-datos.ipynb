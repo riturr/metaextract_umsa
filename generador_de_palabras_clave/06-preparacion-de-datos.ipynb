{
 "cells": [
  {
   "cell_type": "code",
   "execution_count": 31,
   "id": "3817611021df9239",
   "metadata": {
    "collapsed": false,
    "ExecuteTime": {
     "end_time": "2024-01-22T00:37:27.499696974Z",
     "start_time": "2024-01-22T00:37:27.439660236Z"
    }
   },
   "outputs": [],
   "source": [
    "import pandas as pd\n",
    "from tqdm import tqdm\n",
    "tqdm.pandas()"
   ]
  },
  {
   "cell_type": "markdown",
   "id": "2b149319abdc6c93",
   "metadata": {
    "collapsed": false
   },
   "source": [
    "# 1. Load collected data"
   ]
  },
  {
   "cell_type": "code",
   "execution_count": 32,
   "id": "7b7c6179a60250d2",
   "metadata": {
    "collapsed": false,
    "ExecuteTime": {
     "end_time": "2024-01-22T00:37:27.754731390Z",
     "start_time": "2024-01-22T00:37:27.460954319Z"
    }
   },
   "outputs": [
    {
     "name": "stdout",
     "output_type": "stream",
     "text": [
      "Columnas: ['community_page', 'document_page', 'breadcrumb', 'file_urls', 'files']\n",
      "Número de Filas: 26837\n"
     ]
    }
   ],
   "source": [
    "collected_data = pd.read_json('../extractor_de_metadatos/all_collected_data.jsonl', lines=True)\n",
    "print(f\"Columnas: {list(collected_data.columns)}\\nNúmero de Filas: {len(collected_data)}\")"
   ]
  },
  {
   "cell_type": "markdown",
   "id": "db30357168a39584",
   "metadata": {
    "collapsed": false
   },
   "source": [
    "# 2. Transform and clean up"
   ]
  },
  {
   "cell_type": "code",
   "execution_count": 33,
   "id": "1a603c48cb25dac1",
   "metadata": {
    "collapsed": false,
    "ExecuteTime": {
     "end_time": "2024-01-22T00:37:27.754912802Z",
     "start_time": "2024-01-22T00:37:27.748789569Z"
    }
   },
   "outputs": [],
   "source": [
    "collected_data['pdf_path'] = collected_data['files'].str[0].str['path']\n",
    "collected_data['xml_path'] = collected_data['files'].str[1].str['path']"
   ]
  },
  {
   "cell_type": "code",
   "execution_count": 34,
   "id": "9a35310692748751",
   "metadata": {
    "collapsed": false,
    "ExecuteTime": {
     "end_time": "2024-01-22T00:37:41.625113993Z",
     "start_time": "2024-01-22T00:37:27.748946021Z"
    }
   },
   "outputs": [
    {
     "name": "stderr",
     "output_type": "stream",
     "text": [
      "100%|█████████▉| 26826/26837 [00:00<00:00, 99969.17it/s]\n",
      "100%|█████████▉| 26826/26837 [00:04<00:00, 6437.76it/s]\n",
      "100%|█████████▉| 26826/26837 [00:04<00:00, 5934.21it/s]\n",
      "100%|█████████▉| 26826/26837 [00:04<00:00, 5461.76it/s]\n"
     ]
    },
    {
     "data": {
      "text/plain": "                                          community_page  \\\n11889  https://repositorio.umsa.bo/handle/123456789/3...   \n3540   https://repositorio.umsa.bo/handle/123456789/3...   \n22015  https://repositorio.umsa.bo/handle/123456789/3...   \n6767   https://repositorio.umsa.bo/handle/123456789/3...   \n10754  https://repositorio.umsa.bo/handle/123456789/3...   \n25592  https://repositorio.umsa.bo/handle/123456789/1...   \n3162   https://repositorio.umsa.bo/handle/123456789/3...   \n18699  https://repositorio.umsa.bo/handle/123456789/3...   \n14813  https://repositorio.umsa.bo/handle/123456789/3...   \n8624   https://repositorio.umsa.bo/handle/123456789/3...   \n\n                                           document_page  \\\n11889  https://repositorio.umsa.bo/handle/123456789/8986   \n3540   https://repositorio.umsa.bo/handle/123456789/2...   \n22015  https://repositorio.umsa.bo/handle/123456789/6072   \n6767   https://repositorio.umsa.bo/handle/123456789/2...   \n10754  https://repositorio.umsa.bo/handle/123456789/7769   \n25592  https://repositorio.umsa.bo/handle/123456789/9572   \n3162   https://repositorio.umsa.bo/handle/123456789/3...   \n18699  https://repositorio.umsa.bo/handle/123456789/2...   \n14813  https://repositorio.umsa.bo/handle/123456789/2...   \n8624   https://repositorio.umsa.bo/handle/123456789/1...   \n\n                                              breadcrumb  \\\n11889  [DSpace Home, Facultad de Tecnología, Carrera ...   \n3540   [DSpace Home, Facultad de Humanidades y Cienci...   \n22015  [DSpace Home, Facultad de Agronomía, Carrera d...   \n6767   [DSpace Home, Facultad de Derecho y Ciencias P...   \n10754  [DSpace Home, Facultad de Ciencias Puras y Nat...   \n25592  [DSpace Home, Área Vicerrectorado, Biblioteca ...   \n3162   [DSpace Home, Facultad de Medicina, Enfermería...   \n18699  [DSpace Home, Facultad de Ciencias Económicas ...   \n14813  [DSpace Home, Facultad de Arquitectura, Artes,...   \n8624   [DSpace Home, Facultad de Derecho y Ciencias P...   \n\n                                               file_urls  \\\n11889  [https://repositorio.umsa.bo/bitstream/handle/...   \n3540   [https://repositorio.umsa.bo/bitstream/handle/...   \n22015  [https://repositorio.umsa.bo/bitstream/handle/...   \n6767   [https://repositorio.umsa.bo/bitstream/handle/...   \n10754  [https://repositorio.umsa.bo/bitstream/handle/...   \n25592  [https://repositorio.umsa.bo/bitstream/handle/...   \n3162   [https://repositorio.umsa.bo/bitstream/handle/...   \n18699  [https://repositorio.umsa.bo/bitstream/handle/...   \n14813  [https://repositorio.umsa.bo/bitstream/handle/...   \n8624   [https://repositorio.umsa.bo/bitstream/handle/...   \n\n                                                   files  \\\n11889  [{'url': 'https://repositorio.umsa.bo/bitstrea...   \n3540   [{'url': 'https://repositorio.umsa.bo/bitstrea...   \n22015  [{'url': 'https://repositorio.umsa.bo/bitstrea...   \n6767   [{'url': 'https://repositorio.umsa.bo/bitstrea...   \n10754  [{'url': 'https://repositorio.umsa.bo/bitstrea...   \n25592  [{'url': 'https://repositorio.umsa.bo/bitstrea...   \n3162   [{'url': 'https://repositorio.umsa.bo/bitstrea...   \n18699  [{'url': 'https://repositorio.umsa.bo/bitstrea...   \n14813  [{'url': 'https://repositorio.umsa.bo/bitstrea...   \n8624   [{'url': 'https://repositorio.umsa.bo/bitstrea...   \n\n                                            pdf_path  \\\n11889  full/31b9effbd47515f49ce88c3f3a859df576a30dc4   \n3540   full/7ac957e712c18efdd96874ff038a9ad357284700   \n22015  full/20393dc91605e20e5407eae72dc36de24ffea1f1   \n6767   full/5fa0134df7d5b10ba73b5a162eb1da304e696cd1   \n10754  full/ab55efd7853d8061fe041110914be290e5323df7   \n25592  full/f069ba60a77a174a658a1127a4873299284ea841   \n3162   full/59922a133cb5247887a783565896aa8a9e7863ac   \n18699  full/86c39c465a864427ca85df8800a2d6ba5d85701b   \n14813  full/33f34078bc120bda73992c661a13af1305d5a2e9   \n8624   full/009412160ea805b6ff5517b59c89f368c5af1eb2   \n\n                                                xml_path  \\\n11889  full/a385db4d303b07dda14bfa3876febd2c534c7075.xml   \n3540   full/fc143c0a262e95066e8c53f0414439f9063f9f4c.xml   \n22015  full/6c59f4abaa1bdc4af2ff60dad10a8e9f6eb11b8f.xml   \n6767   full/a38d20bc2dc8bb0f443498d8fe1d0766f7cf2d3f.xml   \n10754  full/faf7755af1cfab042262dc6827ec1198ea7f9424.xml   \n25592  full/4a5ae2eeb34229ec639709c0fb3bf63e23ee5d98.xml   \n3162   full/6c433a04f47945b030876220a4c55bd7b3cd99fd.xml   \n18699  full/a674f1627832bacf4b780c28672de9c653e048b3.xml   \n14813  full/5d3116ba6f80c771cd7f5b3cf88476149f475b49.xml   \n8624   full/630a2396327c61be33e19b8904b8728e3b95695e.xml   \n\n                                             xml_content  \\\n11889  <?xml version=\"1.0\" encoding=\"UTF-8\"?><mets:ME...   \n3540   <?xml version=\"1.0\" encoding=\"UTF-8\"?><mets:ME...   \n22015  <?xml version=\"1.0\" encoding=\"UTF-8\"?><mets:ME...   \n6767   <?xml version=\"1.0\" encoding=\"UTF-8\"?><mets:ME...   \n10754  <?xml version=\"1.0\" encoding=\"UTF-8\"?><mets:ME...   \n25592  <?xml version=\"1.0\" encoding=\"UTF-8\"?><mets:ME...   \n3162   <?xml version=\"1.0\" encoding=\"UTF-8\"?><mets:ME...   \n18699  <?xml version=\"1.0\" encoding=\"UTF-8\"?><mets:ME...   \n14813  <?xml version=\"1.0\" encoding=\"UTF-8\"?><mets:ME...   \n8624   <?xml version=\"1.0\" encoding=\"UTF-8\"?><mets:ME...   \n\n                                                   title  \\\n11889  Diseño de una camara de secado de pintura de a...   \n3540   Los mineros de Larecaja : la explotación del o...   \n22015  Caracterización participativa sobre usos, rest...   \n6767   Estado de situación de la normativa referida a...   \n10754  Tutor Inteligente para la enseñanza del proces...   \n25592  Homenaje de la Sociedad Geográfico-Histórica d...   \n3162   Conocimiento de la lista de verificación de ci...   \n18699  Autosostenibilidad financiera de las instituci...   \n14813              Gobierno Autónomo Municipal de Guanay   \n8624   Medidas jurídico sociales basadas en la educac...   \n\n                                                abstract  \\\n11889  El presente proyecto tiene como objetivo funda...   \n3540   1. La explotacion aurifera en el distrito de L...   \n22015  La situación de la cañahua, en el altiplano No...   \n6767   El objetivo es poner en claro y conocimiento a...   \n10754  En la actualidad existen estudiantes universit...   \n25592  Boletín Nº1 de la Sociedad Geográfica Históric...   \n3162   La lista de verificación de cirugía segura de ...   \n18699  Una evaluación de programas financieros con ba...   \n14813  El Trabajo Dirigido, desarrolla actividades ta...   \n8624   Propone establecer dentro de la normativa vige...   \n\n                                                subjects  \n11889  [CAMARA DE SECADO, SECADO DE PINTURA, PINTURA ...  \n3540   [HISTORIA, HISTORIA - LARECAJA, EXPLOTACIONES ...  \n22015  [CAÑAHUA, CHENOPODIUM PALLIDICAULE AELLEN, CON...  \n6767   [BRIGADAS DE PROTECCION A LA FAMILIA, VIOLENCI...  \n10754  [TUTOR INTELIGENTE, ENSEÑANZA DEL PROCESO ENFE...  \n25592  [SOCIEDAD GEOGRAFICO HISTORICA DE POTOSI CREAC...  \n3162   [ENFERMERIA QUIRURGICA, INSTRUMENTACION QUIRUR...  \n18699  [TESIS DE GRADO, AUTOSOSTENIBILIDAD, FINANZAS,...  \n14813  [GUANAY (LA PAZ, BOLIVIA: MUNICIPIO), DISEÑO D...  \n8624   [CULTURA Y EDUCACIÓN, EDUCACIÓN ASISTENCIAL, C...  ",
      "text/html": "<div>\n<style scoped>\n    .dataframe tbody tr th:only-of-type {\n        vertical-align: middle;\n    }\n\n    .dataframe tbody tr th {\n        vertical-align: top;\n    }\n\n    .dataframe thead th {\n        text-align: right;\n    }\n</style>\n<table border=\"1\" class=\"dataframe\">\n  <thead>\n    <tr style=\"text-align: right;\">\n      <th></th>\n      <th>community_page</th>\n      <th>document_page</th>\n      <th>breadcrumb</th>\n      <th>file_urls</th>\n      <th>files</th>\n      <th>pdf_path</th>\n      <th>xml_path</th>\n      <th>xml_content</th>\n      <th>title</th>\n      <th>abstract</th>\n      <th>subjects</th>\n    </tr>\n  </thead>\n  <tbody>\n    <tr>\n      <th>11889</th>\n      <td>https://repositorio.umsa.bo/handle/123456789/3...</td>\n      <td>https://repositorio.umsa.bo/handle/123456789/8986</td>\n      <td>[DSpace Home, Facultad de Tecnología, Carrera ...</td>\n      <td>[https://repositorio.umsa.bo/bitstream/handle/...</td>\n      <td>[{'url': 'https://repositorio.umsa.bo/bitstrea...</td>\n      <td>full/31b9effbd47515f49ce88c3f3a859df576a30dc4</td>\n      <td>full/a385db4d303b07dda14bfa3876febd2c534c7075.xml</td>\n      <td>&lt;?xml version=\"1.0\" encoding=\"UTF-8\"?&gt;&lt;mets:ME...</td>\n      <td>Diseño de una camara de secado de pintura de a...</td>\n      <td>El presente proyecto tiene como objetivo funda...</td>\n      <td>[CAMARA DE SECADO, SECADO DE PINTURA, PINTURA ...</td>\n    </tr>\n    <tr>\n      <th>3540</th>\n      <td>https://repositorio.umsa.bo/handle/123456789/3...</td>\n      <td>https://repositorio.umsa.bo/handle/123456789/2...</td>\n      <td>[DSpace Home, Facultad de Humanidades y Cienci...</td>\n      <td>[https://repositorio.umsa.bo/bitstream/handle/...</td>\n      <td>[{'url': 'https://repositorio.umsa.bo/bitstrea...</td>\n      <td>full/7ac957e712c18efdd96874ff038a9ad357284700</td>\n      <td>full/fc143c0a262e95066e8c53f0414439f9063f9f4c.xml</td>\n      <td>&lt;?xml version=\"1.0\" encoding=\"UTF-8\"?&gt;&lt;mets:ME...</td>\n      <td>Los mineros de Larecaja : la explotación del o...</td>\n      <td>1. La explotacion aurifera en el distrito de L...</td>\n      <td>[HISTORIA, HISTORIA - LARECAJA, EXPLOTACIONES ...</td>\n    </tr>\n    <tr>\n      <th>22015</th>\n      <td>https://repositorio.umsa.bo/handle/123456789/3...</td>\n      <td>https://repositorio.umsa.bo/handle/123456789/6072</td>\n      <td>[DSpace Home, Facultad de Agronomía, Carrera d...</td>\n      <td>[https://repositorio.umsa.bo/bitstream/handle/...</td>\n      <td>[{'url': 'https://repositorio.umsa.bo/bitstrea...</td>\n      <td>full/20393dc91605e20e5407eae72dc36de24ffea1f1</td>\n      <td>full/6c59f4abaa1bdc4af2ff60dad10a8e9f6eb11b8f.xml</td>\n      <td>&lt;?xml version=\"1.0\" encoding=\"UTF-8\"?&gt;&lt;mets:ME...</td>\n      <td>Caracterización participativa sobre usos, rest...</td>\n      <td>La situación de la cañahua, en el altiplano No...</td>\n      <td>[CAÑAHUA, CHENOPODIUM PALLIDICAULE AELLEN, CON...</td>\n    </tr>\n    <tr>\n      <th>6767</th>\n      <td>https://repositorio.umsa.bo/handle/123456789/3...</td>\n      <td>https://repositorio.umsa.bo/handle/123456789/2...</td>\n      <td>[DSpace Home, Facultad de Derecho y Ciencias P...</td>\n      <td>[https://repositorio.umsa.bo/bitstream/handle/...</td>\n      <td>[{'url': 'https://repositorio.umsa.bo/bitstrea...</td>\n      <td>full/5fa0134df7d5b10ba73b5a162eb1da304e696cd1</td>\n      <td>full/a38d20bc2dc8bb0f443498d8fe1d0766f7cf2d3f.xml</td>\n      <td>&lt;?xml version=\"1.0\" encoding=\"UTF-8\"?&gt;&lt;mets:ME...</td>\n      <td>Estado de situación de la normativa referida a...</td>\n      <td>El objetivo es poner en claro y conocimiento a...</td>\n      <td>[BRIGADAS DE PROTECCION A LA FAMILIA, VIOLENCI...</td>\n    </tr>\n    <tr>\n      <th>10754</th>\n      <td>https://repositorio.umsa.bo/handle/123456789/3...</td>\n      <td>https://repositorio.umsa.bo/handle/123456789/7769</td>\n      <td>[DSpace Home, Facultad de Ciencias Puras y Nat...</td>\n      <td>[https://repositorio.umsa.bo/bitstream/handle/...</td>\n      <td>[{'url': 'https://repositorio.umsa.bo/bitstrea...</td>\n      <td>full/ab55efd7853d8061fe041110914be290e5323df7</td>\n      <td>full/faf7755af1cfab042262dc6827ec1198ea7f9424.xml</td>\n      <td>&lt;?xml version=\"1.0\" encoding=\"UTF-8\"?&gt;&lt;mets:ME...</td>\n      <td>Tutor Inteligente para la enseñanza del proces...</td>\n      <td>En la actualidad existen estudiantes universit...</td>\n      <td>[TUTOR INTELIGENTE, ENSEÑANZA DEL PROCESO ENFE...</td>\n    </tr>\n    <tr>\n      <th>25592</th>\n      <td>https://repositorio.umsa.bo/handle/123456789/1...</td>\n      <td>https://repositorio.umsa.bo/handle/123456789/9572</td>\n      <td>[DSpace Home, Área Vicerrectorado, Biblioteca ...</td>\n      <td>[https://repositorio.umsa.bo/bitstream/handle/...</td>\n      <td>[{'url': 'https://repositorio.umsa.bo/bitstrea...</td>\n      <td>full/f069ba60a77a174a658a1127a4873299284ea841</td>\n      <td>full/4a5ae2eeb34229ec639709c0fb3bf63e23ee5d98.xml</td>\n      <td>&lt;?xml version=\"1.0\" encoding=\"UTF-8\"?&gt;&lt;mets:ME...</td>\n      <td>Homenaje de la Sociedad Geográfico-Histórica d...</td>\n      <td>Boletín Nº1 de la Sociedad Geográfica Históric...</td>\n      <td>[SOCIEDAD GEOGRAFICO HISTORICA DE POTOSI CREAC...</td>\n    </tr>\n    <tr>\n      <th>3162</th>\n      <td>https://repositorio.umsa.bo/handle/123456789/3...</td>\n      <td>https://repositorio.umsa.bo/handle/123456789/3...</td>\n      <td>[DSpace Home, Facultad de Medicina, Enfermería...</td>\n      <td>[https://repositorio.umsa.bo/bitstream/handle/...</td>\n      <td>[{'url': 'https://repositorio.umsa.bo/bitstrea...</td>\n      <td>full/59922a133cb5247887a783565896aa8a9e7863ac</td>\n      <td>full/6c433a04f47945b030876220a4c55bd7b3cd99fd.xml</td>\n      <td>&lt;?xml version=\"1.0\" encoding=\"UTF-8\"?&gt;&lt;mets:ME...</td>\n      <td>Conocimiento de la lista de verificación de ci...</td>\n      <td>La lista de verificación de cirugía segura de ...</td>\n      <td>[ENFERMERIA QUIRURGICA, INSTRUMENTACION QUIRUR...</td>\n    </tr>\n    <tr>\n      <th>18699</th>\n      <td>https://repositorio.umsa.bo/handle/123456789/3...</td>\n      <td>https://repositorio.umsa.bo/handle/123456789/2...</td>\n      <td>[DSpace Home, Facultad de Ciencias Económicas ...</td>\n      <td>[https://repositorio.umsa.bo/bitstream/handle/...</td>\n      <td>[{'url': 'https://repositorio.umsa.bo/bitstrea...</td>\n      <td>full/86c39c465a864427ca85df8800a2d6ba5d85701b</td>\n      <td>full/a674f1627832bacf4b780c28672de9c653e048b3.xml</td>\n      <td>&lt;?xml version=\"1.0\" encoding=\"UTF-8\"?&gt;&lt;mets:ME...</td>\n      <td>Autosostenibilidad financiera de las instituci...</td>\n      <td>Una evaluación de programas financieros con ba...</td>\n      <td>[TESIS DE GRADO, AUTOSOSTENIBILIDAD, FINANZAS,...</td>\n    </tr>\n    <tr>\n      <th>14813</th>\n      <td>https://repositorio.umsa.bo/handle/123456789/3...</td>\n      <td>https://repositorio.umsa.bo/handle/123456789/2...</td>\n      <td>[DSpace Home, Facultad de Arquitectura, Artes,...</td>\n      <td>[https://repositorio.umsa.bo/bitstream/handle/...</td>\n      <td>[{'url': 'https://repositorio.umsa.bo/bitstrea...</td>\n      <td>full/33f34078bc120bda73992c661a13af1305d5a2e9</td>\n      <td>full/5d3116ba6f80c771cd7f5b3cf88476149f475b49.xml</td>\n      <td>&lt;?xml version=\"1.0\" encoding=\"UTF-8\"?&gt;&lt;mets:ME...</td>\n      <td>Gobierno Autónomo Municipal de Guanay</td>\n      <td>El Trabajo Dirigido, desarrolla actividades ta...</td>\n      <td>[GUANAY (LA PAZ, BOLIVIA: MUNICIPIO), DISEÑO D...</td>\n    </tr>\n    <tr>\n      <th>8624</th>\n      <td>https://repositorio.umsa.bo/handle/123456789/3...</td>\n      <td>https://repositorio.umsa.bo/handle/123456789/1...</td>\n      <td>[DSpace Home, Facultad de Derecho y Ciencias P...</td>\n      <td>[https://repositorio.umsa.bo/bitstream/handle/...</td>\n      <td>[{'url': 'https://repositorio.umsa.bo/bitstrea...</td>\n      <td>full/009412160ea805b6ff5517b59c89f368c5af1eb2</td>\n      <td>full/630a2396327c61be33e19b8904b8728e3b95695e.xml</td>\n      <td>&lt;?xml version=\"1.0\" encoding=\"UTF-8\"?&gt;&lt;mets:ME...</td>\n      <td>Medidas jurídico sociales basadas en la educac...</td>\n      <td>Propone establecer dentro de la normativa vige...</td>\n      <td>[CULTURA Y EDUCACIÓN, EDUCACIÓN ASISTENCIAL, C...</td>\n    </tr>\n  </tbody>\n</table>\n</div>"
     },
     "execution_count": 34,
     "metadata": {},
     "output_type": "execute_result"
    }
   ],
   "source": [
    "from parsel import Selector\n",
    "import codecs\n",
    "\n",
    "def read_file(filename):\n",
    "    with codecs.open(filename, 'r', 'utf-8') as f:\n",
    "        return f.read()\n",
    "    \n",
    "def get_field(xml_string: str, attribute, value, return_all_matches=False):\n",
    "    sel = Selector(text=xml_string)\n",
    "    sel.register_namespace('dim', 'http://www.dspace.org/xmlns/dspace/dim')\n",
    "    matches = sel.xpath(f'//dim/field[@{attribute}=\"{value}\"]/text()')\n",
    "    if return_all_matches:\n",
    "        return matches.getall()\n",
    "    return matches.get()\n",
    "\n",
    "def get_title(xml_string):\n",
    "    return  get_field(xml_string, 'element', 'title')\n",
    "\n",
    "def get_abstract(xml_string):\n",
    "    return get_field(xml_string, 'qualifier', 'abstract')\n",
    "\n",
    "def get_subjects(xml_string):\n",
    "    subjects_extracted = get_field(xml_string, 'element', 'subject', return_all_matches=True)\n",
    "    return [s.upper() for s in subjects_extracted]\n",
    "\n",
    "collected_data['xml_content'] = collected_data['xml_path'].progress_map(lambda xml_path: read_file('../scrapy/files/' + xml_path), na_action='ignore')\n",
    "\n",
    "# get these fields as arrays \n",
    "collected_data['title'] = collected_data['xml_content'].progress_map(get_title, na_action='ignore')\n",
    "collected_data['abstract'] = collected_data['xml_content'].progress_map(get_abstract, na_action='ignore')\n",
    "collected_data['subjects'] = collected_data['xml_content'].progress_map(get_subjects, na_action='ignore')\n",
    "collected_data.sample(10)"
   ]
  },
  {
   "cell_type": "code",
   "execution_count": 35,
   "outputs": [
    {
     "data": {
      "text/plain": "                                                   title  \\\n0      Cálculo de las entradas ordinarias relativas a...   \n1      Defensa del general José C. Quiroz en la acusa...   \n2      Cálculo de las entradas ordinarias y extraordi...   \n3      Optimización del sistema de seguridad y etique...   \n4      Desarrollo de un sistema electrónico que permi...   \n...                                                  ...   \n26832  Alerta policial para enfrentar la violencia es...   \n26833         Solidaridad básica y solidaridad limitada:   \n26834  Examen de confiabilidad de los registros y est...   \n26835  Auditoría de confiabilidad de registros y esta...   \n26836  Evaluación del control interno relacionado a l...   \n\n                                                abstract  \\\n0      Relación desglosada de los ingresos del  Presu...   \n1      Defensa en los estrados judiciales del Gral. J...   \n2      Cálculo de las entradas ordinarias clasificada...   \n3      Nuestro país se encuentra en vías de crecimien...   \n4      Este documento trata de la manera de desarroll...   \n...                                                  ...   \n26832  La presente propuesta de intervención socioedu...   \n26833  La cuestión de la minería en Bolivia ha sido i...   \n26834  El Servicio Nacional de Aerofotogrametría es u...   \n26835  En Cumplimiento al Programa Operativo Anual de...   \n26836  Actualmente en las organizaciones están presen...   \n\n                                                subjects  \n0                            [PRESUPUESTO NACIONAL 1931]  \n1         [JUICIO DE RESPONSABILIDAD, CONTRATOS VICKERS]  \n2                    [PRESUPUESTOS DEPARTAMENTALES 1929]  \n3      [SISTEMA DE SEGURIDAD, TRANSMISIÓN DE DATOS, S...  \n4      [DETECTOR DE INCENDIOS, EMPRESA ROSVANIA, PREV...  \n...                                                  ...  \n26832  [EDUCACION ESCOLAR, POLICIA, VIOLENCIA, UNIDAD...  \n26833  [COOPERATIVAS MINERAS, SOLIDARIDAD BÁSICA, SOL...  \n26834  [CONFIABILIDAD DE REGISTROS, AUDITORIA GUBERNA...  \n26835  [AUDITORIA DE CONFIABILIDAD, CIENCIAS GEOLÓGIC...  \n26836  [CONTROL INTERNO, ACTIVOS FIJOS, DIRECCIÓN DEL...  \n\n[26837 rows x 3 columns]",
      "text/html": "<div>\n<style scoped>\n    .dataframe tbody tr th:only-of-type {\n        vertical-align: middle;\n    }\n\n    .dataframe tbody tr th {\n        vertical-align: top;\n    }\n\n    .dataframe thead th {\n        text-align: right;\n    }\n</style>\n<table border=\"1\" class=\"dataframe\">\n  <thead>\n    <tr style=\"text-align: right;\">\n      <th></th>\n      <th>title</th>\n      <th>abstract</th>\n      <th>subjects</th>\n    </tr>\n  </thead>\n  <tbody>\n    <tr>\n      <th>0</th>\n      <td>Cálculo de las entradas ordinarias relativas a...</td>\n      <td>Relación desglosada de los ingresos del  Presu...</td>\n      <td>[PRESUPUESTO NACIONAL 1931]</td>\n    </tr>\n    <tr>\n      <th>1</th>\n      <td>Defensa del general José C. Quiroz en la acusa...</td>\n      <td>Defensa en los estrados judiciales del Gral. J...</td>\n      <td>[JUICIO DE RESPONSABILIDAD, CONTRATOS VICKERS]</td>\n    </tr>\n    <tr>\n      <th>2</th>\n      <td>Cálculo de las entradas ordinarias y extraordi...</td>\n      <td>Cálculo de las entradas ordinarias clasificada...</td>\n      <td>[PRESUPUESTOS DEPARTAMENTALES 1929]</td>\n    </tr>\n    <tr>\n      <th>3</th>\n      <td>Optimización del sistema de seguridad y etique...</td>\n      <td>Nuestro país se encuentra en vías de crecimien...</td>\n      <td>[SISTEMA DE SEGURIDAD, TRANSMISIÓN DE DATOS, S...</td>\n    </tr>\n    <tr>\n      <th>4</th>\n      <td>Desarrollo de un sistema electrónico que permi...</td>\n      <td>Este documento trata de la manera de desarroll...</td>\n      <td>[DETECTOR DE INCENDIOS, EMPRESA ROSVANIA, PREV...</td>\n    </tr>\n    <tr>\n      <th>...</th>\n      <td>...</td>\n      <td>...</td>\n      <td>...</td>\n    </tr>\n    <tr>\n      <th>26832</th>\n      <td>Alerta policial para enfrentar la violencia es...</td>\n      <td>La presente propuesta de intervención socioedu...</td>\n      <td>[EDUCACION ESCOLAR, POLICIA, VIOLENCIA, UNIDAD...</td>\n    </tr>\n    <tr>\n      <th>26833</th>\n      <td>Solidaridad básica y solidaridad limitada:</td>\n      <td>La cuestión de la minería en Bolivia ha sido i...</td>\n      <td>[COOPERATIVAS MINERAS, SOLIDARIDAD BÁSICA, SOL...</td>\n    </tr>\n    <tr>\n      <th>26834</th>\n      <td>Examen de confiabilidad de los registros y est...</td>\n      <td>El Servicio Nacional de Aerofotogrametría es u...</td>\n      <td>[CONFIABILIDAD DE REGISTROS, AUDITORIA GUBERNA...</td>\n    </tr>\n    <tr>\n      <th>26835</th>\n      <td>Auditoría de confiabilidad de registros y esta...</td>\n      <td>En Cumplimiento al Programa Operativo Anual de...</td>\n      <td>[AUDITORIA DE CONFIABILIDAD, CIENCIAS GEOLÓGIC...</td>\n    </tr>\n    <tr>\n      <th>26836</th>\n      <td>Evaluación del control interno relacionado a l...</td>\n      <td>Actualmente en las organizaciones están presen...</td>\n      <td>[CONTROL INTERNO, ACTIVOS FIJOS, DIRECCIÓN DEL...</td>\n    </tr>\n  </tbody>\n</table>\n<p>26837 rows × 3 columns</p>\n</div>"
     },
     "execution_count": 35,
     "metadata": {},
     "output_type": "execute_result"
    }
   ],
   "source": [
    "# for reporting purposes\n",
    "\n",
    "collected_data[['title', 'abstract', 'subjects']]"
   ],
   "metadata": {
    "collapsed": false,
    "ExecuteTime": {
     "end_time": "2024-01-22T00:38:29.404475181Z",
     "start_time": "2024-01-22T00:38:29.372852109Z"
    }
   },
   "id": "aad022d83862394d"
  },
  {
   "cell_type": "code",
   "execution_count": 5,
   "id": "831039fc53d04e0b",
   "metadata": {
    "collapsed": false,
    "ExecuteTime": {
     "end_time": "2024-01-21T23:10:34.025044759Z",
     "start_time": "2024-01-21T23:10:34.000620388Z"
    }
   },
   "outputs": [
    {
     "name": "stdout",
     "output_type": "stream",
     "text": [
      "26044\n"
     ]
    }
   ],
   "source": [
    "collected_data.dropna(subset=['title', 'abstract', 'subjects'], inplace=True)\n",
    "print(len(collected_data))"
   ]
  },
  {
   "cell_type": "code",
   "execution_count": 6,
   "id": "99b628216eb45822",
   "metadata": {
    "collapsed": false,
    "ExecuteTime": {
     "end_time": "2024-01-21T23:10:34.158720263Z",
     "start_time": "2024-01-21T23:10:34.028356646Z"
    }
   },
   "outputs": [
    {
     "data": {
      "text/plain": "18573"
     },
     "execution_count": 6,
     "metadata": {},
     "output_type": "execute_result"
    }
   ],
   "source": [
    "min_subjects_mask = collected_data['subjects'].str.len() >= collected_data['subjects'].str.len().mean() - 0.5 * collected_data['subjects'].str.len().std()\n",
    "max_subjects_mask = collected_data['subjects'].str.len() <= collected_data['subjects'].str.len().mean() + 2 * collected_data['subjects'].str.len().std()\n",
    "subjects_range_mask = min_subjects_mask & max_subjects_mask\n",
    "collected_data = collected_data[subjects_range_mask]\n",
    "len(collected_data)"
   ]
  },
  {
   "cell_type": "code",
   "execution_count": 7,
   "id": "46e5743e4014afb1",
   "metadata": {
    "collapsed": false,
    "ExecuteTime": {
     "end_time": "2024-01-21T23:10:34.159920259Z",
     "start_time": "2024-01-21T23:10:34.061430238Z"
    }
   },
   "outputs": [
    {
     "data": {
      "text/plain": "16479"
     },
     "execution_count": 7,
     "metadata": {},
     "output_type": "execute_result"
    }
   ],
   "source": [
    "min_abstract_mask = collected_data['abstract'].str.len() >= 100\n",
    "max_abstract_mask = collected_data['abstract'].str.len() <= collected_data['abstract'].str.len().mean() + 1 * collected_data['abstract'].str.len().std()\n",
    "abstract_range_mask = min_abstract_mask & max_abstract_mask\n",
    "collected_data = collected_data[abstract_range_mask]\n",
    "len(collected_data)"
   ]
  },
  {
   "cell_type": "code",
   "execution_count": 8,
   "id": "b21390e02a96d55c",
   "metadata": {
    "collapsed": false,
    "ExecuteTime": {
     "end_time": "2024-01-21T23:10:34.160399483Z",
     "start_time": "2024-01-21T23:10:34.105021243Z"
    }
   },
   "outputs": [
    {
     "data": {
      "text/plain": "13931"
     },
     "execution_count": 8,
     "metadata": {},
     "output_type": "execute_result"
    }
   ],
   "source": [
    "min_title_mask = collected_data['title'].str.len() >= 50\n",
    "max_title_mask = collected_data['title'].str.len() <= collected_data['title'].str.len().mean() + 1 * collected_data['title'].str.len().std()\n",
    "title_range_mask = min_title_mask & max_title_mask\n",
    "collected_data = collected_data[max_title_mask]\n",
    "len(collected_data)"
   ]
  },
  {
   "cell_type": "code",
   "execution_count": 9,
   "outputs": [],
   "source": [
    "# delete this cell\n",
    "from unidecode import unidecode\n",
    "\n",
    "def keep_exact_matches(row):\n",
    "    filtered_subjects = [] \n",
    "    title = unidecode(row['title']).lower()\n",
    "    abstract = unidecode(row['abstract']).lower()\n",
    "\n",
    "    for s in row['subjects']:\n",
    "        subject = unidecode(s).lower()\n",
    "        index_in_title = title.find(subject)\n",
    "        if index_in_title != -1:\n",
    "            # print(s, '->', row['title'][index_in_title: index_in_title + len(subject)])\n",
    "            filtered_subjects.append(row['title'][index_in_title: index_in_title + len(subject)])\n",
    "            continue\n",
    "        index_in_abstract = abstract.find(subject)\n",
    "        if index_in_abstract != -1:\n",
    "            # print(s, '->', row['abstract'][index_in_abstract: index_in_abstract + len(subject)])\n",
    "            filtered_subjects.append(row['abstract'][index_in_abstract: index_in_abstract + len(subject)])\n",
    "    if len(filtered_subjects) >= 2:\n",
    "        return filtered_subjects\n",
    "    else:\n",
    "        return None\n",
    "\n",
    "collected_data[\"subjects\"] = collected_data.apply(keep_exact_matches, axis=1)"
   ],
   "metadata": {
    "collapsed": false,
    "ExecuteTime": {
     "end_time": "2024-01-21T23:10:35.962333113Z",
     "start_time": "2024-01-21T23:10:34.109075183Z"
    }
   },
   "id": "de5c119c3021f228"
  },
  {
   "cell_type": "code",
   "execution_count": 10,
   "outputs": [
    {
     "data": {
      "text/plain": "8226"
     },
     "execution_count": 10,
     "metadata": {},
     "output_type": "execute_result"
    }
   ],
   "source": [
    "collected_data.dropna(subset=\"subjects\", inplace=True)\n",
    "len(collected_data)"
   ],
   "metadata": {
    "collapsed": false,
    "ExecuteTime": {
     "end_time": "2024-01-21T23:10:35.971455588Z",
     "start_time": "2024-01-21T23:10:35.958186230Z"
    }
   },
   "id": "e6fcd6abbed5bd9"
  },
  {
   "cell_type": "code",
   "execution_count": 30,
   "outputs": [
    {
     "data": {
      "text/plain": "                                                   title  \\\n3      Optimización del sistema de seguridad y etique...   \n4      Desarrollo de un sistema electrónico que permi...   \n5      Diseño e implementación de un sistema de medic...   \n7      Informe de mantenimiento industrial de equipo ...   \n9      Rediseño del sistema de puesta a tierra, para ...   \n...                                                  ...   \n26827  Auditoría operacional al proceso de provisión ...   \n26830  Promoviendo y fortaleciendo la participación d...   \n26832  Alerta policial para enfrentar la violencia es...   \n26833         Solidaridad básica y solidaridad limitada:   \n26836  Evaluación del control interno relacionado a l...   \n\n                                                abstract  \\\n3      Nuestro país se encuentra en vías de crecimien...   \n4      Este documento trata de la manera de desarroll...   \n5      El presente proyecto surge con la necesidad de...   \n7      En el presente informe detallo los trabajos de...   \n9      Este proyecto está predispuesto a dar solución...   \n...                                                  ...   \n26827  La presente Auditoría Operacional al Proceso d...   \n26830  El Centro Integral NAT’s Sagrados Corazones tr...   \n26832  La presente propuesta de intervención socioedu...   \n26833  La cuestión de la minería en Bolivia ha sido i...   \n26836  Actualmente en las organizaciones están presen...   \n\n                                                subjects  \n3      [sistema de seguridad, transmisión de datos, c...  \n4            [Empresa ROSVANIA, prevención de incendios]  \n5      [lactantes mayores, Hospital La Paz, señales e...  \n7      [mantenimiento industrial, mantenimiento preve...  \n9      [puesta a tierra, materiales eléctricos, insta...  \n...                                                  ...  \n26827              [Auditoría operacional, medicamentos]  \n26830          [educación, familia, rendimiento escolar]  \n26832          [policia, violencia, Unidades Educativas]  \n26833  [Solidaridad básica, solidaridad limitada, Bol...  \n26836  [control interno, activos fijos, Dirección del...  \n\n[8226 rows x 3 columns]",
      "text/html": "<div>\n<style scoped>\n    .dataframe tbody tr th:only-of-type {\n        vertical-align: middle;\n    }\n\n    .dataframe tbody tr th {\n        vertical-align: top;\n    }\n\n    .dataframe thead th {\n        text-align: right;\n    }\n</style>\n<table border=\"1\" class=\"dataframe\">\n  <thead>\n    <tr style=\"text-align: right;\">\n      <th></th>\n      <th>title</th>\n      <th>abstract</th>\n      <th>subjects</th>\n    </tr>\n  </thead>\n  <tbody>\n    <tr>\n      <th>3</th>\n      <td>Optimización del sistema de seguridad y etique...</td>\n      <td>Nuestro país se encuentra en vías de crecimien...</td>\n      <td>[sistema de seguridad, transmisión de datos, c...</td>\n    </tr>\n    <tr>\n      <th>4</th>\n      <td>Desarrollo de un sistema electrónico que permi...</td>\n      <td>Este documento trata de la manera de desarroll...</td>\n      <td>[Empresa ROSVANIA, prevención de incendios]</td>\n    </tr>\n    <tr>\n      <th>5</th>\n      <td>Diseño e implementación de un sistema de medic...</td>\n      <td>El presente proyecto surge con la necesidad de...</td>\n      <td>[lactantes mayores, Hospital La Paz, señales e...</td>\n    </tr>\n    <tr>\n      <th>7</th>\n      <td>Informe de mantenimiento industrial de equipo ...</td>\n      <td>En el presente informe detallo los trabajos de...</td>\n      <td>[mantenimiento industrial, mantenimiento preve...</td>\n    </tr>\n    <tr>\n      <th>9</th>\n      <td>Rediseño del sistema de puesta a tierra, para ...</td>\n      <td>Este proyecto está predispuesto a dar solución...</td>\n      <td>[puesta a tierra, materiales eléctricos, insta...</td>\n    </tr>\n    <tr>\n      <th>...</th>\n      <td>...</td>\n      <td>...</td>\n      <td>...</td>\n    </tr>\n    <tr>\n      <th>26827</th>\n      <td>Auditoría operacional al proceso de provisión ...</td>\n      <td>La presente Auditoría Operacional al Proceso d...</td>\n      <td>[Auditoría operacional, medicamentos]</td>\n    </tr>\n    <tr>\n      <th>26830</th>\n      <td>Promoviendo y fortaleciendo la participación d...</td>\n      <td>El Centro Integral NAT’s Sagrados Corazones tr...</td>\n      <td>[educación, familia, rendimiento escolar]</td>\n    </tr>\n    <tr>\n      <th>26832</th>\n      <td>Alerta policial para enfrentar la violencia es...</td>\n      <td>La presente propuesta de intervención socioedu...</td>\n      <td>[policia, violencia, Unidades Educativas]</td>\n    </tr>\n    <tr>\n      <th>26833</th>\n      <td>Solidaridad básica y solidaridad limitada:</td>\n      <td>La cuestión de la minería en Bolivia ha sido i...</td>\n      <td>[Solidaridad básica, solidaridad limitada, Bol...</td>\n    </tr>\n    <tr>\n      <th>26836</th>\n      <td>Evaluación del control interno relacionado a l...</td>\n      <td>Actualmente en las organizaciones están presen...</td>\n      <td>[control interno, activos fijos, Dirección del...</td>\n    </tr>\n  </tbody>\n</table>\n<p>8226 rows × 3 columns</p>\n</div>"
     },
     "execution_count": 30,
     "metadata": {},
     "output_type": "execute_result"
    }
   ],
   "source": [
    "collected_data[['title', 'abstract', 'subjects']]"
   ],
   "metadata": {
    "collapsed": false,
    "ExecuteTime": {
     "end_time": "2024-01-22T00:24:25.199251600Z",
     "start_time": "2024-01-22T00:24:25.189044551Z"
    }
   },
   "id": "175a3b91d139148b"
  },
  {
   "cell_type": "code",
   "execution_count": null,
   "outputs": [],
   "source": [
    "collected_data.to_pickle('collected_data.pkl')"
   ],
   "metadata": {
    "collapsed": false
   },
   "id": "150b047039f49d7"
  }
 ],
 "metadata": {
  "kernelspec": {
   "display_name": "Python 3 (ipykernel)",
   "language": "python",
   "name": "python3"
  },
  "language_info": {
   "codemirror_mode": {
    "name": "ipython",
    "version": 3
   },
   "file_extension": ".py",
   "mimetype": "text/x-python",
   "name": "python",
   "nbconvert_exporter": "python",
   "pygments_lexer": "ipython3",
   "version": "3.11.2"
  }
 },
 "nbformat": 4,
 "nbformat_minor": 5
}
